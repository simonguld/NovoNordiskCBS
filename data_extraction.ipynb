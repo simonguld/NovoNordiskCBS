{
 "cells": [
  {
   "cell_type": "code",
   "execution_count": 83,
   "metadata": {},
   "outputs": [],
   "source": [
    "## Imports:\n",
    "import numpy as np\n",
    "import seaborn as sns\n",
    "import pandas as pd\n",
    "import matplotlib.pyplot as plt\n",
    "\n",
    "from matplotlib import rcParams\n",
    "from cycler import cycler\n",
    "\n",
    "## Set plotting style and print options\n",
    "sns.set_theme()\n",
    "sns.set_style(\"darkgrid\")\n",
    "sns.set_context(\"paper\") #Possible are paper, notebook, talk and poster\n",
    "\n",
    "d = {'lines.linewidth': 2, 'axes.titlesize': 18, 'axes.labelsize': 18, 'xtick.labelsize': 12, 'axes.labelweight': 'bold', 'ytick.labelsize': 12,\\\n",
    "     'legend.fontsize': 15, 'font.family': 'serif', 'font.weight': 'bold', 'figure.titlesize': 20,'figure.titleweight': 'bold',\\\n",
    "          'figure.labelsize': 18,'figure.labelweight': 'bold', 'figure.figsize': (9,6), }\n",
    "d_colors = {'axes.prop_cycle': cycler(color = ['teal', 'navy', 'coral', 'plum', 'purple', 'olivedrab',\\\n",
    "         'black', 'red', 'cyan', 'yellow', 'khaki','lightblue'])}\n",
    "rcParams.update(d)\n",
    "rcParams.update(d_colors)\n",
    "np.set_printoptions(precision = 5, suppress=1e-10)"
   ]
  },
  {
   "cell_type": "code",
   "execution_count": 128,
   "metadata": {},
   "outputs": [],
   "source": [
    "data_path = 'data/oecd_health_data.csv'\n",
    "data_path_meds = 'data/diabetes_meds_consumption.csv'\n",
    "data_path_death_rates = 'data/death_rate_from_diabetes_who.csv'\n",
    "data_path_death_rates_standardized = 'data/death_rate_from_diabetes_age_standardized.csv'\n",
    "data_path_prevalence = 'data/diabetes_prevalence.csv'\n",
    "\n",
    "df = pd.read_csv(data_path)\n",
    "df_meds = pd.read_csv(data_path_meds)\n",
    "df_death_rates = pd.read_csv(data_path_death_rates).drop(columns=['Entity'])\n",
    "df_death_rates_standardized = pd.read_csv(data_path_death_rates_standardized).drop(columns=['Entity'])\n",
    "df_prevalence = pd.read_csv(data_path_prevalence).drop(columns=['Entity'])\n",
    "\n",
    "df_death_rates_standardized['Measure'] = 'Death rate from diabetes (age standardized)'\n",
    "df_death_rates['Measure'] = 'Death rate from diabetes'\n",
    "df_prevalence['Measure'] = 'Prevalence of diabetes'\n",
    "\n",
    "# rename columns Entity: REF_AREA, Year: TIME_PERIOD, Deaths -: OBS_VALUE\n",
    "df_death_rates.rename(columns={'Code': 'REF_AREA', 'Year': 'TIME_PERIOD',\\\n",
    "                     f'{df_death_rates.columns[2]}': 'OBS_VALUE'}, inplace=True)\n",
    "df_death_rates_standardized.rename(columns={'Code': 'REF_AREA', 'Year': 'TIME_PERIOD',\\\n",
    "                     f'{df_death_rates_standardized.columns[2]}': 'OBS_VALUE'}, inplace=True)\n",
    "df_prevalence.rename(columns={'Code': 'REF_AREA', 'Year': 'TIME_PERIOD',\\\n",
    "                     f'{df_prevalence.columns[2]}': 'OBS_VALUE'}, inplace=True)\n",
    "\n",
    "keep_cols = ['REF_AREA', 'Measure', 'OBS_VALUE', 'TIME_PERIOD']\n",
    "\n",
    "# concatenate dataframes\n",
    "df_res = pd.concat([df[keep_cols], df_meds[keep_cols], \\\n",
    "                df_death_rates, df_death_rates_standardized, df_prevalence], axis=0)\n",
    "\n",
    "# save to csv\n",
    "df_res.to_csv('data/oecd_health_data_cleaned_merged.csv', index=False)"
   ]
  },
  {
   "cell_type": "code",
   "execution_count": 94,
   "metadata": {},
   "outputs": [],
   "source": [
    "# rename columns Entity: REF_AREA, Year: TIME_PERIOD, Deaths -: OBS_VALUE\n",
    "df_death_rates.rename(columns={'Code': 'REF_AREA', 'Year': 'TIME_PERIOD',\\\n",
    "                     'Deaths - Diabetes mellitus - Sex: Both - Age: Age-standardized (Rate)': 'OBS_VALUE'}, inplace=True)"
   ]
  },
  {
   "cell_type": "code",
   "execution_count": 98,
   "metadata": {},
   "outputs": [],
   "source": [
    "df_death_rates['Measure'] = 'Death rate from diabetes'"
   ]
  },
  {
   "cell_type": "code",
   "execution_count": 93,
   "metadata": {},
   "outputs": [
    {
     "data": {
      "text/plain": [
       "REF_AREA                                                                 Afghanistan\n",
       "Code                                                                             AFG\n",
       "TIME_PERIOD                                                                     1990\n",
       "Deaths - Diabetes mellitus - Sex: Both - Age: Age-standardized (Rate)          30.93\n",
       "Name: 0, dtype: object"
      ]
     },
     "execution_count": 93,
     "metadata": {},
     "output_type": "execute_result"
    }
   ],
   "source": [
    "df_death_rates.loc[0]"
   ]
  },
  {
   "cell_type": "code",
   "execution_count": 81,
   "metadata": {},
   "outputs": [],
   "source": [
    "year_list = df_res['TIME_PERIOD'].unique()\n",
    "year_list.sort()\n",
    "Nyears = len(year_list)\n",
    "country_list = df_res['REF_AREA'].unique()\n",
    "country_list.sort()\n",
    "Ncountries = len(country_list)\n",
    "\n",
    "measure_list = df_res['Measure'].unique()\n",
    "measure_list.sort()\n",
    "Nmeasures = len(measure_list)"
   ]
  },
  {
   "cell_type": "code",
   "execution_count": 82,
   "metadata": {},
   "outputs": [
    {
     "data": {
      "text/plain": [
       "(array([2010, 2011, 2012, 2013, 2014, 2015, 2016, 2017, 2018, 2019, 2020,\n",
       "        2021, 2022], dtype=int64),\n",
       " array(['Pharmaceutical consumption',\n",
       "        'Share of population consuming fruits daily',\n",
       "        'Share of population consuming vegetables daily',\n",
       "        'Share of population who are daily smokers',\n",
       "        'Share of population who are obese',\n",
       "        'Share of population who are overweight',\n",
       "        'Share of population who are overweight or obese',\n",
       "        'Tobacco consumption'], dtype=object))"
      ]
     },
     "execution_count": 82,
     "metadata": {},
     "output_type": "execute_result"
    }
   ],
   "source": [
    "year_list, measure_list"
   ]
  },
  {
   "cell_type": "code",
   "execution_count": 18,
   "metadata": {},
   "outputs": [
    {
     "name": "stdout",
     "output_type": "stream",
     "text": [
      "REF_AREA 49\n",
      "Measure 7\n",
      "OBS_VALUE 837\n",
      "TIME_PERIOD 13\n"
     ]
    }
   ],
   "source": [
    "# get the unique values of each column\n",
    "for col in df_res.columns:\n",
    "    print(col, len(df_res[col].unique()))"
   ]
  },
  {
   "cell_type": "code",
   "execution_count": 65,
   "metadata": {},
   "outputs": [
    {
     "data": {
      "text/plain": [
       "array(['ARG', 'AUS', 'AUT', 'BEL', 'BGR', 'BRA', 'CAN', 'CHE', 'CHL',\n",
       "       'CHN', 'COL', 'CRI', 'CZE', 'DEU', 'DNK', 'ESP', 'EST', 'FIN',\n",
       "       'FRA', 'GBR', 'GRC', 'HRV', 'HUN', 'IDN', 'IND', 'IRL', 'ISL',\n",
       "       'ISR', 'ITA', 'JPN', 'KOR', 'LTU', 'LUX', 'LVA', 'MEX', 'NLD',\n",
       "       'NOR', 'NZL', 'PER', 'POL', 'PRT', 'ROU', 'RUS', 'SVK', 'SVN',\n",
       "       'SWE', 'TUR', 'USA', 'ZAF'], dtype=object)"
      ]
     },
     "execution_count": 65,
     "metadata": {},
     "output_type": "execute_result"
    }
   ],
   "source": [
    "country_list"
   ]
  }
 ],
 "metadata": {
  "kernelspec": {
   "display_name": "BigData",
   "language": "python",
   "name": "python3"
  },
  "language_info": {
   "codemirror_mode": {
    "name": "ipython",
    "version": 3
   },
   "file_extension": ".py",
   "mimetype": "text/x-python",
   "name": "python",
   "nbconvert_exporter": "python",
   "pygments_lexer": "ipython3",
   "version": "3.10.12"
  }
 },
 "nbformat": 4,
 "nbformat_minor": 2
}
